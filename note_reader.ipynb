{
 "cells": [
  {
   "cell_type": "code",
   "execution_count": 11,
   "id": "5277f4bd",
   "metadata": {},
   "outputs": [],
   "source": [
    "# If needed (run once per environment)\n",
    "# !pip install -q langchain langchain-openai faiss-cpu python-dotenv tiktoken markdown-it-py unstructured\n",
    "\n",
    "import os\n",
    "import glob\n",
    "from pathlib import Path\n",
    "from dotenv import load_dotenv\n",
    "\n",
    "from typing import List, Optional\n",
    "from dataclasses import dataclass\n",
    "\n",
    "# LangChain core\n",
    "from langchain_core.prompts import PromptTemplate\n",
    "from langchain_core.output_parsers import StrOutputParser\n",
    "from langchain_core.runnables import RunnablePassthrough\n",
    "\n",
    "# OpenAI integrations\n",
    "from langchain_openai import ChatOpenAI, OpenAIEmbeddings\n",
    "\n",
    "# Vector store\n",
    "from langchain_community.vectorstores import FAISS\n",
    "\n",
    "# Document loaders / splitters\n",
    "from langchain_community.document_loaders import TextLoader\n",
    "from langchain.text_splitter import RecursiveCharacterTextSplitter\n"
   ]
  },
  {
   "cell_type": "code",
   "execution_count": 12,
   "id": "5fdc1ca9",
   "metadata": {},
   "outputs": [],
   "source": [
    "load_dotenv()\n",
    "\n",
    "OPENAI_API_KEY = os.getenv(\"OPENAI_API_KEY\")\n",
    "if not OPENAI_API_KEY:\n",
    "    raise ValueError(\"OPENAI_API_KEY is not set\")\n",
    "\n",
    "# ---- Model knobs ----\n",
    "# Use \"gpt-5\" if you have access; else \"gpt-4o\"\n",
    "MODEL_NAME = os.getenv(\"OPENAI_MODEL\", \"gpt-5\")\n",
    "TEMPERATURE = float(os.getenv(\"OPENAI_TEMPERATURE\", \"0.2\"))\n",
    "\n",
    "llm = ChatOpenAI(model=MODEL_NAME, temperature=TEMPERATURE, api_key=OPENAI_API_KEY)\n",
    "embeddings = OpenAIEmbeddings(api_key=OPENAI_API_KEY)\n"
   ]
  },
  {
   "cell_type": "code",
   "execution_count": 13,
   "id": "3e7a0a6d",
   "metadata": {},
   "outputs": [
    {
     "name": "stdout",
     "output_type": "stream",
     "text": [
      "Loaded 3 documents from ./notes\n"
     ]
    }
   ],
   "source": [
    "@dataclass\n",
    "class NotesConfig:\n",
    "    notes_dir: str = \"./notes\"   # change to your path\n",
    "    glob_pattern: str = \"**/*.md\"\n",
    "    chunk_size: int = 1200\n",
    "    chunk_overlap: int = 150\n",
    "\n",
    "config = NotesConfig(notes_dir=\"./notes\")  # <-- set your folder\n",
    "Path(config.notes_dir).mkdir(parents=True, exist_ok=True)  # ensure exists\n",
    "\n",
    "# Example: drop your 3 files into ./notes first, then run this\n",
    "def load_any_notes(notes_dir: Path):\n",
    "    docs = []\n",
    "\n",
    "    # .md / .txt\n",
    "    for ext in (\"*.md\", \"*.txt\"):\n",
    "        for fp in notes_dir.rglob(ext):\n",
    "            docs.extend(TextLoader(str(fp), encoding=\"utf-8\").load())\n",
    "\n",
    "    # .pdf\n",
    "    for fp in notes_dir.rglob(\"*.pdf\"):\n",
    "        docs.extend(PyPDFLoader(str(fp)).load())\n",
    "\n",
    "    # .docx (optional)\n",
    "    for fp in notes_dir.rglob(\"*.docx\"):\n",
    "        docs.extend(Docx2txtLoader(str(fp)).load())\n",
    "\n",
    "    return docs\n",
    "\n",
    "if not raw_docs:\n",
    "    print(f\"No markdown files found under: {config.notes_dir}. Add some .md files and re-run this cell.\")\n",
    "else:\n",
    "    print(f\"Loaded {len(raw_docs)} documents from {config.notes_dir}\")\n"
   ]
  },
  {
   "cell_type": "code",
   "execution_count": 6,
   "id": "30391fc9",
   "metadata": {},
   "outputs": [
    {
     "name": "stdout",
     "output_type": "stream",
     "text": [
      "Created 63 chunks\n"
     ]
    }
   ],
   "source": [
    "text_splitter = RecursiveCharacterTextSplitter(\n",
    "    chunk_size=config.chunk_size,\n",
    "    chunk_overlap=config.chunk_overlap,\n",
    "    separators=[\"\\n\\n\", \"\\n\", \" \", \"\"],\n",
    ")\n",
    "\n",
    "docs = text_splitter.split_documents(raw_docs)\n",
    "print(f\"Created {len(docs)} chunks\")\n",
    "\n",
    "vectorstore = FAISS.from_documents(docs, embeddings)\n",
    "retriever = vectorstore.as_retriever(search_kwargs={\"k\": 4})"
   ]
  },
  {
   "cell_type": "code",
   "execution_count": 8,
   "id": "519c221e",
   "metadata": {},
   "outputs": [],
   "source": [
    "def format_docs(docs):\n",
    "    formatted = []\n",
    "    for d in docs: \n",
    "        source = d.metadata.get(\"source\", \"unknown.md\")\n",
    "        # Some loaders may include line numbers; if not, we just return text.\n",
    "        formatted.append(f\"[SOURCE: {Path(source).name}]\\n{d.page_content}\")\n",
    "    return \"\\n\\n---\\n\\n\".join(formatted)\n",
    "\n",
    "RAG_PROMPT = PromptTemplate.from_template(\n",
    "    \"\"\"You are a helpful notes assistant. Use only the provided context to answer the question.\n",
    "Cite sources like [SOURCE: filename.md] when relevant.\n",
    "\n",
    "Question:\n",
    "{question}\n",
    "\n",
    "Context:\n",
    "{context}\n",
    "\n",
    "Answer succinctly, with bullet points when helpful, and list sources at the end.\"\"\"\n",
    ")\n",
    "\n",
    "rag_chain = (\n",
    "    {\"context\": retriever | format_docs, \"question\": RunnablePassthrough()}\n",
    "    | RAG_PROMPT\n",
    "    | llm\n",
    "    | StrOutputParser()\n",
    ")\n",
    "\n",
    "def ask(question: str) -> str:\n",
    "    \"\"\"Query your markdown notes with retrieval-augmented generation.\"\"\"\n",
    "    return rag_chain.invoke(question)\n"
   ]
  },
  {
   "cell_type": "code",
   "execution_count": 9,
   "id": "5ca886fa",
   "metadata": {},
   "outputs": [
    {
     "name": "stdout",
     "output_type": "stream",
     "text": [
      "- App structure: React app with a clear component/layout organization (Layout.jsx, Navbar.jsx, Sidebar.jsx), route-based pages, and separation of concerns via hooks, lib, and utils directories. [SOURCE: Design Doc.md]\n",
      "- Caching and infra: Redis is central for performance and reliability, handling query caching, session storage, and rate limiting for features like user data, dashboards, alerts, analytics, and data sources. [SOURCE: Design Doc.md]\n",
      "- State management: \n",
      "  - Local: useState/useReducer; shared state via Context. \n",
      "  - Data fetching: custom hooks, React Query-style caching, optimistic updates. \n",
      "  - Auth: Supabase Auth provider, JWT handling, and protected routes. [SOURCE: Design Doc.md]\n",
      "- Data pipeline (Extract phase): Multiple intake paths—CSV uploads (validation, preview, schema detection), API integrations (OAuth, rate limits, incremental sync), and manual entry (copy/paste, forms). [SOURCE: Design Doc.md]\n",
      "- Probabilistic modeling: Hidden Markov Models support key inference tasks—filtering (current state), prediction (future state), smoothing (past state), and finding the most likely sequence of states given observations. [SOURCE: 2 - Uncertainty.md]\n",
      "\n",
      "Sources:\n",
      "- [SOURCE: Design Doc.md]\n",
      "- [SOURCE: 2 - Uncertainty.md]\n"
     ]
    }
   ],
   "source": [
    "# Try a generic question\n",
    "print(ask(\"What are the main takeaways across these files?\"))\n",
    "\n"
   ]
  },
  {
   "cell_type": "code",
   "execution_count": 10,
   "id": "15796956",
   "metadata": {},
   "outputs": [],
   "source": [
    "import os\n",
    "from dotenv import load_dotenv\n",
    "\n",
    "load_dotenv()  # ensures LANGCHAIN_API_KEY is picked up if you put it in .env\n",
    "\n",
    "# REQUIRED\n",
    "os.environ[\"LANGCHAIN_TRACING_V2\"] = \"true\"\n",
    "# If not already set in your shell/.env, set your key here:\n",
    "# os.environ[\"LANGCHAIN_API_KEY\"] = \"<your-langsmith-api-key>\"\n",
    "\n",
    "# OPTIONAL but recommended: keep runs grouped per app/session\n",
    "os.environ[\"LANGCHAIN_PROJECT\"] = os.getenv(\"LANGCHAIN_PROJECT\", \"Notes QA\")\n",
    "\n",
    "# OPTIONAL: custom endpoint (default is fine)\n",
    "# os.environ[\"LANGCHAIN_ENDPOINT\"] = \"https://api.smith.langchain.com\"\n"
   ]
  }
 ],
 "metadata": {
  "kernelspec": {
   "display_name": "venv",
   "language": "python",
   "name": "python3"
  },
  "language_info": {
   "codemirror_mode": {
    "name": "ipython",
    "version": 3
   },
   "file_extension": ".py",
   "mimetype": "text/x-python",
   "name": "python",
   "nbconvert_exporter": "python",
   "pygments_lexer": "ipython3",
   "version": "3.9.6"
  }
 },
 "nbformat": 4,
 "nbformat_minor": 5
}
